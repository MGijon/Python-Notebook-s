{
 "cells": [
  {
   "cell_type": "markdown",
   "metadata": {},
   "source": [
    "# Probabilidad y estadística con Python"
   ]
  },
  {
   "cell_type": "markdown",
   "metadata": {},
   "source": [
    "### Estadística descriptiva"
   ]
  },
  {
   "cell_type": "code",
   "execution_count": 3,
   "metadata": {
    "collapsed": true
   },
   "outputs": [],
   "source": [
    "import numpy as np\n",
    "from scipy import stats\n",
    "import pandas as pd\n",
    "\n",
    "np.random.seed(2132932)"
   ]
  },
  {
   "cell_type": "code",
   "execution_count": 4,
   "metadata": {},
   "outputs": [
    {
     "data": {
      "text/plain": [
       "array([[ 0.80292262, -0.45611912,  0.05850386, -1.96674024],\n",
       "       [-1.01885512,  0.08192945,  0.38530409, -1.02373574],\n",
       "       [ 1.09577622, -1.41052202, -0.59203301,  1.06778346],\n",
       "       [-0.21600417, -0.04911806,  0.25215608, -1.2112261 ],\n",
       "       [-1.40225764, -1.21321696, -0.90891838,  0.78720345]])"
      ]
     },
     "execution_count": 4,
     "metadata": {},
     "output_type": "execute_result"
    }
   ],
   "source": [
    "datos = np.random.randn(5, 4)\n",
    "datos"
   ]
  },
  {
   "cell_type": "markdown",
   "metadata": {},
   "source": [
    "* Media aritmética:\n"
   ]
  },
  {
   "cell_type": "code",
   "execution_count": 5,
   "metadata": {},
   "outputs": [
    {
     "name": "stdout",
     "output_type": "stream",
     "text": [
      "-0.346858365914\n",
      "-0.346858365914\n"
     ]
    }
   ],
   "source": [
    "print(datos.mean())\n",
    "print(np.mean(datos))  # usando numpy"
   ]
  },
  {
   "cell_type": "code",
   "execution_count": 6,
   "metadata": {},
   "outputs": [
    {
     "name": "stdout",
     "output_type": "stream",
     "text": [
      "[-0.21600417 -0.45611912  0.05850386 -1.02373574]\n"
     ]
    }
   ],
   "source": [
    "print(np.median(datos, 0)) # media aritmetica de cada columna"
   ]
  },
  {
   "cell_type": "code",
   "execution_count": 11,
   "metadata": {},
   "outputs": [
    {
     "name": "stdout",
     "output_type": "stream",
     "text": [
      "[-0.14768362 -0.60940934 -0.16099747 -0.46934304]\n",
      "[-0.39035822 -0.39383933  0.04025117 -0.30604806 -0.68429738]\n"
     ]
    }
   ],
   "source": [
    "print(datos.mean(axis = 0)) # media aritmética de cada columna\n",
    "print(datos.mean(axis = 1)) # media aritmética de cada fila"
   ]
  },
  {
   "cell_type": "markdown",
   "metadata": {},
   "source": [
    "* Mediana:"
   ]
  },
  {
   "cell_type": "code",
   "execution_count": 16,
   "metadata": {},
   "outputs": [
    {
     "name": "stdout",
     "output_type": "stream",
     "text": [
      "0.328034738018\n"
     ]
    }
   ],
   "source": [
    "print(np.median(datos)) "
   ]
  },
  {
   "cell_type": "markdown",
   "metadata": {},
   "source": [
    "* Desviación típica"
   ]
  },
  {
   "cell_type": "code",
   "execution_count": 7,
   "metadata": {},
   "outputs": [
    {
     "data": {
      "text/plain": [
       "0.88611525879762243"
      ]
     },
     "execution_count": 7,
     "metadata": {},
     "output_type": "execute_result"
    }
   ],
   "source": [
    "np.std(datos)"
   ]
  },
  {
   "cell_type": "code",
   "execution_count": 10,
   "metadata": {},
   "outputs": [
    {
     "name": "stdout",
     "output_type": "stream",
     "text": [
      "[ 0.97850989  0.60361224  0.50249366  1.18672719]\n",
      "[ 1.0142363   0.63656002  1.0810275   0.54887614  0.86761053]\n"
     ]
    }
   ],
   "source": [
    "print(np.std(datos, 0))  # desviación típica de cada columna\n",
    "print(np.std(datos, 1))  # desviación típica de cada fila"
   ]
  },
  {
   "cell_type": "markdown",
   "metadata": {},
   "source": [
    "* Varianza"
   ]
  },
  {
   "cell_type": "code",
   "execution_count": 12,
   "metadata": {},
   "outputs": [
    {
     "data": {
      "text/plain": [
       "0.78520025187397746"
      ]
     },
     "execution_count": 12,
     "metadata": {},
     "output_type": "execute_result"
    }
   ],
   "source": [
    "np.var(datos)"
   ]
  },
  {
   "cell_type": "code",
   "execution_count": 13,
   "metadata": {},
   "outputs": [
    {
     "name": "stdout",
     "output_type": "stream",
     "text": [
      "[ 0.95748161  0.36434774  0.25249988  1.40832142]\n",
      "[ 1.02867527  0.40520866  1.16862046  0.30126502  0.75274803]\n"
     ]
    }
   ],
   "source": [
    "print(np.var(datos, 0))  # desviación típica de cada columna\n",
    "print(np.var(datos, 1))  # desviación típica de cada fila"
   ]
  },
  {
   "cell_type": "markdown",
   "metadata": {},
   "source": [
    "* Moda\n"
   ]
  },
  {
   "cell_type": "code",
   "execution_count": 14,
   "metadata": {},
   "outputs": [
    {
     "data": {
      "text/plain": [
       "ModeResult(mode=array([[-1.40225764, -1.41052202, -0.90891838, -1.96674024]]), count=array([[1, 1, 1, 1]]))"
      ]
     },
     "execution_count": 14,
     "metadata": {},
     "output_type": "execute_result"
    }
   ],
   "source": [
    "stats.mode(datos)        # el segundo array nos devuelve la frecuencia"
   ]
  },
  {
   "cell_type": "code",
   "execution_count": null,
   "metadata": {
    "collapsed": true
   },
   "outputs": [],
   "source": []
  }
 ],
 "metadata": {
  "kernelspec": {
   "display_name": "Python 3",
   "language": "python",
   "name": "python3"
  },
  "language_info": {
   "codemirror_mode": {
    "name": "ipython",
    "version": 3
   },
   "file_extension": ".py",
   "mimetype": "text/x-python",
   "name": "python",
   "nbconvert_exporter": "python",
   "pygments_lexer": "ipython3",
   "version": "3.6.1"
  }
 },
 "nbformat": 4,
 "nbformat_minor": 2
}
