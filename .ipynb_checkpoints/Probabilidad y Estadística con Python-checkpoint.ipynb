{
 "cells": [
  {
   "cell_type": "markdown",
   "metadata": {},
   "source": [
    "# Probabilidad y estadística con Python"
   ]
  },
  {
   "cell_type": "markdown",
   "metadata": {},
   "source": [
    "### Estadística descriptiva"
   ]
  },
  {
   "cell_type": "code",
   "execution_count": 3,
   "metadata": {
    "collapsed": true
   },
   "outputs": [],
   "source": [
    "import numpy as np\n",
    "from scipy import stats\n",
    "import pandas as pd\n",
    "\n",
    "np.random.seed(2132932)"
   ]
  },
  {
   "cell_type": "code",
   "execution_count": 4,
   "metadata": {},
   "outputs": [
    {
     "data": {
      "text/plain": [
       "array([[ 0.80292262, -0.45611912,  0.05850386, -1.96674024],\n",
       "       [-1.01885512,  0.08192945,  0.38530409, -1.02373574],\n",
       "       [ 1.09577622, -1.41052202, -0.59203301,  1.06778346],\n",
       "       [-0.21600417, -0.04911806,  0.25215608, -1.2112261 ],\n",
       "       [-1.40225764, -1.21321696, -0.90891838,  0.78720345]])"
      ]
     },
     "execution_count": 4,
     "metadata": {},
     "output_type": "execute_result"
    }
   ],
   "source": [
    "datos = np.random.randn(5, 4)\n",
    "datos"
   ]
  },
  {
   "cell_type": "markdown",
   "metadata": {},
   "source": [
    "* **Media aritmética:** Es la suma de los valores divididos entre el número de muestras.\n",
    "\n",
    "$$\n",
    "\\mu = \\frac{1}{n} \\sum_{i} {x_i} \n",
    "$$\n"
   ]
  },
  {
   "cell_type": "code",
   "execution_count": 5,
   "metadata": {},
   "outputs": [
    {
     "name": "stdout",
     "output_type": "stream",
     "text": [
      "-0.346858365914\n",
      "-0.346858365914\n"
     ]
    }
   ],
   "source": [
    "print(datos.mean())\n",
    "print(np.mean(datos))  # usando numpy"
   ]
  },
  {
   "cell_type": "code",
   "execution_count": 6,
   "metadata": {},
   "outputs": [
    {
     "name": "stdout",
     "output_type": "stream",
     "text": [
      "[-0.21600417 -0.45611912  0.05850386 -1.02373574]\n"
     ]
    }
   ],
   "source": [
    "print(np.median(datos, 0)) # media aritmetica de cada columna"
   ]
  },
  {
   "cell_type": "code",
   "execution_count": 11,
   "metadata": {},
   "outputs": [
    {
     "name": "stdout",
     "output_type": "stream",
     "text": [
      "[-0.14768362 -0.60940934 -0.16099747 -0.46934304]\n",
      "[-0.39035822 -0.39383933  0.04025117 -0.30604806 -0.68429738]\n"
     ]
    }
   ],
   "source": [
    "print(datos.mean(axis = 0)) # media aritmética de cada columna\n",
    "print(datos.mean(axis = 1)) # media aritmética de cada fila"
   ]
  },
  {
   "cell_type": "markdown",
   "metadata": {},
   "source": [
    "* **Mediana:** La mediana es el valor que ocupa el lugar central de todos los datos cuando éstos están ordenados de menor a mayor."
   ]
  },
  {
   "cell_type": "code",
   "execution_count": 16,
   "metadata": {},
   "outputs": [
    {
     "name": "stdout",
     "output_type": "stream",
     "text": [
      "0.328034738018\n"
     ]
    }
   ],
   "source": [
    "print(np.median(datos)) "
   ]
  },
  {
   "cell_type": "markdown",
   "metadata": {},
   "source": [
    "* **Desviación típica:**  La desviación típica es la raíz cuadrada de la varianza.\n",
    "\n",
    "$$\n",
    "\\sigma = \\sqrt{\\frac{\\sum_{i= 1}^{n} {(x_i - \\mu)^2}}{n}}\n",
    "$$"
   ]
  },
  {
   "cell_type": "code",
   "execution_count": 7,
   "metadata": {},
   "outputs": [
    {
     "data": {
      "text/plain": [
       "0.88611525879762243"
      ]
     },
     "execution_count": 7,
     "metadata": {},
     "output_type": "execute_result"
    }
   ],
   "source": [
    "np.std(datos)"
   ]
  },
  {
   "cell_type": "code",
   "execution_count": 10,
   "metadata": {},
   "outputs": [
    {
     "name": "stdout",
     "output_type": "stream",
     "text": [
      "[ 0.97850989  0.60361224  0.50249366  1.18672719]\n",
      "[ 1.0142363   0.63656002  1.0810275   0.54887614  0.86761053]\n"
     ]
    }
   ],
   "source": [
    "print(np.std(datos, 0))  # desviación típica de cada columna\n",
    "print(np.std(datos, 1))  # desviación típica de cada fila"
   ]
  },
  {
   "cell_type": "markdown",
   "metadata": {},
   "source": [
    "* **Varianza:** La varianza es la media aritmética del cuadrado de las desviaciones respecto a la media de una distribución estadística.\n",
    "\n",
    "$$\n",
    "\\sigma^2 = \\frac{\\sum_{i= 1}^{n} {(x_i - \\mu)^2}}{n}\n",
    "$$"
   ]
  },
  {
   "cell_type": "code",
   "execution_count": 12,
   "metadata": {},
   "outputs": [
    {
     "data": {
      "text/plain": [
       "0.78520025187397746"
      ]
     },
     "execution_count": 12,
     "metadata": {},
     "output_type": "execute_result"
    }
   ],
   "source": [
    "np.var(datos)"
   ]
  },
  {
   "cell_type": "code",
   "execution_count": 13,
   "metadata": {},
   "outputs": [
    {
     "name": "stdout",
     "output_type": "stream",
     "text": [
      "[ 0.95748161  0.36434774  0.25249988  1.40832142]\n",
      "[ 1.02867527  0.40520866  1.16862046  0.30126502  0.75274803]\n"
     ]
    }
   ],
   "source": [
    "print(np.var(datos, 0))  # desviación típica de cada columna\n",
    "print(np.var(datos, 1))  # desviación típica de cada fila"
   ]
  },
  {
   "cell_type": "markdown",
   "metadata": {},
   "source": [
    "* **Moda:** La moda es el valor que tiene mayor frecuencia absoluta. \n"
   ]
  },
  {
   "cell_type": "code",
   "execution_count": 14,
   "metadata": {},
   "outputs": [
    {
     "data": {
      "text/plain": [
       "ModeResult(mode=array([[-1.40225764, -1.41052202, -0.90891838, -1.96674024]]), count=array([[1, 1, 1, 1]]))"
      ]
     },
     "execution_count": 14,
     "metadata": {},
     "output_type": "execute_result"
    }
   ],
   "source": [
    "stats.mode(datos)        # el segundo array nos devuelve la frecuencia"
   ]
  },
  {
   "cell_type": "markdown",
   "metadata": {},
   "source": [
    "* **Correlación:** La correlación trata de establecer la relación o dependencia que existe entre las dos variables que intervienen en una distribución bidimensional. Es decir, determinar si los cambios en una de las variables influyen en los cambios de la otra. En caso de que suceda, diremos que las variables están correlacionadas o que hay correlación entre ellas. La correlación es positiva cuando los valores de las variables aumenta juntos; y es negativa cuando un valor de una variable se reduce cuando el valor de la otra variable aumenta."
   ]
  },
  {
   "cell_type": "code",
   "execution_count": 15,
   "metadata": {},
   "outputs": [
    {
     "data": {
      "text/plain": [
       "array([[ 1.        ,  0.21900536, -0.1251006 ,  0.79398517, -0.92118095],\n",
       "       [ 0.21900536,  1.        , -0.90455263,  0.76636561, -0.4095757 ],\n",
       "       [-0.1251006 , -0.90455263,  1.        , -0.65759937,  0.44342067],\n",
       "       [ 0.79398517,  0.76636561, -0.65759937,  1.        , -0.87035937],\n",
       "       [-0.92118095, -0.4095757 ,  0.44342067, -0.87035937,  1.        ]])"
      ]
     },
     "execution_count": 15,
     "metadata": {},
     "output_type": "execute_result"
    }
   ],
   "source": [
    "np.corrcoef(datos)       # crea la matriz de correlaciones"
   ]
  },
  {
   "cell_type": "code",
   "execution_count": 16,
   "metadata": {},
   "outputs": [
    {
     "data": {
      "text/plain": [
       "array([[ 1.        ,  0.21900536],\n",
       "       [ 0.21900536,  1.        ]])"
      ]
     },
     "execution_count": 16,
     "metadata": {},
     "output_type": "execute_result"
    }
   ],
   "source": [
    "np.corrcoef(datos[0], datos[1])  # correlación entre dos vectores"
   ]
  },
  {
   "cell_type": "markdown",
   "metadata": {},
   "source": [
    "* **Covarianza:**  La covarianza es el equivalente de la varianza aplicado a una variable bidimensional. Es la media aritmética de los productos de las desviaciones de cada una de las variables respecto a sus medias respectivas.La covarianza indica el sentido de la correlación entre las variables; si $\\sigma_{xy} > 0$ la correlación es directa, si $\\sigma_{xy} < 0$ la correlación es indirecta.\n",
    "\n",
    "$$\n",
    "\\sigma_{xy} = \\frac{\\sum_{i = 0}^{n}{(x_i - \\mu_x)(y_i - \\mu_y)}}{n}\n",
    "$$"
   ]
  },
  {
   "cell_type": "code",
   "execution_count": 17,
   "metadata": {},
   "outputs": [
    {
     "data": {
      "text/plain": [
       "array([[ 1.37156703,  0.18852632, -0.18288328,  0.58933825, -1.08080576],\n",
       "       [ 0.18852632,  0.54027821, -0.82994379,  0.35701664, -0.301604  ],\n",
       "       [-0.18288328, -0.82994379,  1.55816062, -0.52024897,  0.55451874],\n",
       "       [ 0.58933825,  0.35701664, -0.52024897,  0.4016867 , -0.55263262],\n",
       "       [-1.08080576, -0.301604  ,  0.55451874, -0.55263262,  1.00366404]])"
      ]
     },
     "execution_count": 17,
     "metadata": {},
     "output_type": "execute_result"
    }
   ],
   "source": [
    "np.cov(datos)         # calcula matriz de covarianza"
   ]
  },
  {
   "cell_type": "code",
   "execution_count": 18,
   "metadata": {},
   "outputs": [
    {
     "data": {
      "text/plain": [
       "array([[ 1.37156703,  0.18852632],\n",
       "       [ 0.18852632,  0.54027821]])"
      ]
     },
     "execution_count": 18,
     "metadata": {},
     "output_type": "execute_result"
    }
   ],
   "source": [
    "np.cov(datos[0], datos[1])     # covarianza entre dos vectores"
   ]
  },
  {
   "cell_type": "markdown",
   "metadata": {},
   "source": [
    "***\n",
    "\n",
    "**Usando Pandas:**"
   ]
  },
  {
   "cell_type": "code",
   "execution_count": 19,
   "metadata": {},
   "outputs": [
    {
     "data": {
      "text/html": [
       "<div>\n",
       "<style>\n",
       "    .dataframe thead tr:only-child th {\n",
       "        text-align: right;\n",
       "    }\n",
       "\n",
       "    .dataframe thead th {\n",
       "        text-align: left;\n",
       "    }\n",
       "\n",
       "    .dataframe tbody tr th {\n",
       "        vertical-align: top;\n",
       "    }\n",
       "</style>\n",
       "<table border=\"1\" class=\"dataframe\">\n",
       "  <thead>\n",
       "    <tr style=\"text-align: right;\">\n",
       "      <th></th>\n",
       "      <th>col1</th>\n",
       "      <th>col2</th>\n",
       "      <th>col3</th>\n",
       "      <th>col4</th>\n",
       "    </tr>\n",
       "  </thead>\n",
       "  <tbody>\n",
       "    <tr>\n",
       "      <th>a</th>\n",
       "      <td>0.802923</td>\n",
       "      <td>-0.456119</td>\n",
       "      <td>0.058504</td>\n",
       "      <td>-1.966740</td>\n",
       "    </tr>\n",
       "    <tr>\n",
       "      <th>b</th>\n",
       "      <td>-1.018855</td>\n",
       "      <td>0.081929</td>\n",
       "      <td>0.385304</td>\n",
       "      <td>-1.023736</td>\n",
       "    </tr>\n",
       "    <tr>\n",
       "      <th>c</th>\n",
       "      <td>1.095776</td>\n",
       "      <td>-1.410522</td>\n",
       "      <td>-0.592033</td>\n",
       "      <td>1.067783</td>\n",
       "    </tr>\n",
       "    <tr>\n",
       "      <th>d</th>\n",
       "      <td>-0.216004</td>\n",
       "      <td>-0.049118</td>\n",
       "      <td>0.252156</td>\n",
       "      <td>-1.211226</td>\n",
       "    </tr>\n",
       "    <tr>\n",
       "      <th>e</th>\n",
       "      <td>-1.402258</td>\n",
       "      <td>-1.213217</td>\n",
       "      <td>-0.908918</td>\n",
       "      <td>0.787203</td>\n",
       "    </tr>\n",
       "  </tbody>\n",
       "</table>\n",
       "</div>"
      ],
      "text/plain": [
       "       col1      col2      col3      col4\n",
       "a  0.802923 -0.456119  0.058504 -1.966740\n",
       "b -1.018855  0.081929  0.385304 -1.023736\n",
       "c  1.095776 -1.410522 -0.592033  1.067783\n",
       "d -0.216004 -0.049118  0.252156 -1.211226\n",
       "e -1.402258 -1.213217 -0.908918  0.787203"
      ]
     },
     "execution_count": 19,
     "metadata": {},
     "output_type": "execute_result"
    }
   ],
   "source": [
    "dataframe = pd.DataFrame(datos, index=['a', 'b', 'c', 'd', 'e'], columns=['col1', 'col2', 'col3', 'col4'])\n",
    "dataframe"
   ]
  },
  {
   "cell_type": "code",
   "execution_count": 20,
   "metadata": {},
   "outputs": [
    {
     "data": {
      "text/html": [
       "<div>\n",
       "<style>\n",
       "    .dataframe thead tr:only-child th {\n",
       "        text-align: right;\n",
       "    }\n",
       "\n",
       "    .dataframe thead th {\n",
       "        text-align: left;\n",
       "    }\n",
       "\n",
       "    .dataframe tbody tr th {\n",
       "        vertical-align: top;\n",
       "    }\n",
       "</style>\n",
       "<table border=\"1\" class=\"dataframe\">\n",
       "  <thead>\n",
       "    <tr style=\"text-align: right;\">\n",
       "      <th></th>\n",
       "      <th>col1</th>\n",
       "      <th>col2</th>\n",
       "      <th>col3</th>\n",
       "      <th>col4</th>\n",
       "    </tr>\n",
       "  </thead>\n",
       "  <tbody>\n",
       "    <tr>\n",
       "      <th>count</th>\n",
       "      <td>5.000000</td>\n",
       "      <td>5.000000</td>\n",
       "      <td>5.000000</td>\n",
       "      <td>5.000000</td>\n",
       "    </tr>\n",
       "    <tr>\n",
       "      <th>mean</th>\n",
       "      <td>-0.147684</td>\n",
       "      <td>-0.609409</td>\n",
       "      <td>-0.160997</td>\n",
       "      <td>-0.469343</td>\n",
       "    </tr>\n",
       "    <tr>\n",
       "      <th>std</th>\n",
       "      <td>1.094007</td>\n",
       "      <td>0.674859</td>\n",
       "      <td>0.561805</td>\n",
       "      <td>1.326801</td>\n",
       "    </tr>\n",
       "    <tr>\n",
       "      <th>min</th>\n",
       "      <td>-1.402258</td>\n",
       "      <td>-1.410522</td>\n",
       "      <td>-0.908918</td>\n",
       "      <td>-1.966740</td>\n",
       "    </tr>\n",
       "    <tr>\n",
       "      <th>25%</th>\n",
       "      <td>-1.018855</td>\n",
       "      <td>-1.213217</td>\n",
       "      <td>-0.592033</td>\n",
       "      <td>-1.211226</td>\n",
       "    </tr>\n",
       "    <tr>\n",
       "      <th>50%</th>\n",
       "      <td>-0.216004</td>\n",
       "      <td>-0.456119</td>\n",
       "      <td>0.058504</td>\n",
       "      <td>-1.023736</td>\n",
       "    </tr>\n",
       "    <tr>\n",
       "      <th>75%</th>\n",
       "      <td>0.802923</td>\n",
       "      <td>-0.049118</td>\n",
       "      <td>0.252156</td>\n",
       "      <td>0.787203</td>\n",
       "    </tr>\n",
       "    <tr>\n",
       "      <th>max</th>\n",
       "      <td>1.095776</td>\n",
       "      <td>0.081929</td>\n",
       "      <td>0.385304</td>\n",
       "      <td>1.067783</td>\n",
       "    </tr>\n",
       "  </tbody>\n",
       "</table>\n",
       "</div>"
      ],
      "text/plain": [
       "           col1      col2      col3      col4\n",
       "count  5.000000  5.000000  5.000000  5.000000\n",
       "mean  -0.147684 -0.609409 -0.160997 -0.469343\n",
       "std    1.094007  0.674859  0.561805  1.326801\n",
       "min   -1.402258 -1.410522 -0.908918 -1.966740\n",
       "25%   -1.018855 -1.213217 -0.592033 -1.211226\n",
       "50%   -0.216004 -0.456119  0.058504 -1.023736\n",
       "75%    0.802923 -0.049118  0.252156  0.787203\n",
       "max    1.095776  0.081929  0.385304  1.067783"
      ]
     },
     "execution_count": 20,
     "metadata": {},
     "output_type": "execute_result"
    }
   ],
   "source": [
    "dataframe.describe()      # resumen estadistadistico con pandas"
   ]
  },
  {
   "cell_type": "code",
   "execution_count": 21,
   "metadata": {},
   "outputs": [
    {
     "name": "stdout",
     "output_type": "stream",
     "text": [
      "col1   -0.738418\n",
      "col2   -3.047047\n",
      "col3   -0.804987\n",
      "col4   -2.346715\n",
      "dtype: float64\n",
      "a   -1.561433\n",
      "b   -1.575357\n",
      "c    0.161005\n",
      "d   -1.224192\n",
      "e   -2.737190\n",
      "dtype: float64\n"
     ]
    }
   ],
   "source": [
    "print(dataframe.sum())   # sumando las columnas\n",
    "print(dataframe.sum(axis = 1))    # sumando filas"
   ]
  },
  {
   "cell_type": "code",
   "execution_count": 22,
   "metadata": {},
   "outputs": [
    {
     "data": {
      "text/html": [
       "<div>\n",
       "<style>\n",
       "    .dataframe thead tr:only-child th {\n",
       "        text-align: right;\n",
       "    }\n",
       "\n",
       "    .dataframe thead th {\n",
       "        text-align: left;\n",
       "    }\n",
       "\n",
       "    .dataframe tbody tr th {\n",
       "        vertical-align: top;\n",
       "    }\n",
       "</style>\n",
       "<table border=\"1\" class=\"dataframe\">\n",
       "  <thead>\n",
       "    <tr style=\"text-align: right;\">\n",
       "      <th></th>\n",
       "      <th>col1</th>\n",
       "      <th>col2</th>\n",
       "      <th>col3</th>\n",
       "      <th>col4</th>\n",
       "    </tr>\n",
       "  </thead>\n",
       "  <tbody>\n",
       "    <tr>\n",
       "      <th>a</th>\n",
       "      <td>0.802923</td>\n",
       "      <td>-0.456119</td>\n",
       "      <td>0.058504</td>\n",
       "      <td>-1.966740</td>\n",
       "    </tr>\n",
       "    <tr>\n",
       "      <th>b</th>\n",
       "      <td>-0.215932</td>\n",
       "      <td>-0.374190</td>\n",
       "      <td>0.443808</td>\n",
       "      <td>-2.990476</td>\n",
       "    </tr>\n",
       "    <tr>\n",
       "      <th>c</th>\n",
       "      <td>0.879844</td>\n",
       "      <td>-1.784712</td>\n",
       "      <td>-0.148225</td>\n",
       "      <td>-1.922693</td>\n",
       "    </tr>\n",
       "    <tr>\n",
       "      <th>d</th>\n",
       "      <td>0.663840</td>\n",
       "      <td>-1.833830</td>\n",
       "      <td>0.103931</td>\n",
       "      <td>-3.133919</td>\n",
       "    </tr>\n",
       "    <tr>\n",
       "      <th>e</th>\n",
       "      <td>-0.738418</td>\n",
       "      <td>-3.047047</td>\n",
       "      <td>-0.804987</td>\n",
       "      <td>-2.346715</td>\n",
       "    </tr>\n",
       "  </tbody>\n",
       "</table>\n",
       "</div>"
      ],
      "text/plain": [
       "       col1      col2      col3      col4\n",
       "a  0.802923 -0.456119  0.058504 -1.966740\n",
       "b -0.215932 -0.374190  0.443808 -2.990476\n",
       "c  0.879844 -1.784712 -0.148225 -1.922693\n",
       "d  0.663840 -1.833830  0.103931 -3.133919\n",
       "e -0.738418 -3.047047 -0.804987 -2.346715"
      ]
     },
     "execution_count": 22,
     "metadata": {},
     "output_type": "execute_result"
    }
   ],
   "source": [
    "dataframe.cumsum() # acumulados"
   ]
  },
  {
   "cell_type": "code",
   "execution_count": 23,
   "metadata": {},
   "outputs": [
    {
     "name": "stdout",
     "output_type": "stream",
     "text": [
      "col1   -0.147684\n",
      "col2   -0.609409\n",
      "col3   -0.160997\n",
      "col4   -0.469343\n",
      "dtype: float64\n",
      "a   -0.390358\n",
      "b   -0.393839\n",
      "c    0.040251\n",
      "d   -0.306048\n",
      "e   -0.684297\n",
      "dtype: float64\n"
     ]
    }
   ],
   "source": [
    "print(dataframe.mean())  # media aritmetica de cada columna con pandas\n",
    "print(dataframe.mean(axis = 1))  # media aritmetica de cada fila con pandas"
   ]
  },
  {
   "cell_type": "markdown",
   "metadata": {},
   "source": [
    "### Histogramas y Distribuciones"
   ]
  },
  {
   "cell_type": "markdown",
   "metadata": {
    "collapsed": true
   },
   "source": [
    "* **Distrubución Normal:**"
   ]
  },
  {
   "cell_type": "code",
   "execution_count": 8,
   "metadata": {},
   "outputs": [],
   "source": [
    "import matplotlib.pyplot as plt\n",
    "import seaborn as sns\n",
    "\n",
    "sns.set_palette(\"deep\", desat = .6)              # parámetros estéticos de Seaborn\n",
    "sns.set_context(rc = {\"figure.figsize\": (8, 4)})"
   ]
  },
  {
   "cell_type": "code",
   "execution_count": 5,
   "metadata": {
    "collapsed": true
   },
   "outputs": [],
   "source": [
    "mu, sigma = 0, 0.1                               # media y desvio estandar\n",
    "s = np.random.normal(mu, sigma, 1000)            # creando muestra de datos"
   ]
  },
  {
   "cell_type": "code",
   "execution_count": 14,
   "metadata": {},
   "outputs": [
    {
     "data": {
      "image/png": "[encoded data removed]",
      "text/plain": [
       "<matplotlib.figure.Figure at 0x1150894e0>"
      ]
     },
     "metadata": {},
     "output_type": "display_data"
    }
   ],
   "source": [
    "cuenta, cajas, ignorar = plt.hist(s, 30, normed=True)      # histograma de distribución normal.\n",
    "normal = plt.plot(cajas, 1/(sigma * np.sqrt(2 * np.pi)) * np.exp( - (cajas - mu)**2 / (2 * sigma**2) ),\n",
    "                  linewidth = 2, color = 'r')\n",
    "plt.show()"
   ]
  },
  {
   "cell_type": "code",
   "execution_count": null,
   "metadata": {
    "collapsed": true
   },
   "outputs": [],
   "source": []
  }
 ],
 "metadata": {
  "kernelspec": {
   "display_name": "Python 3",
   "language": "python",
   "name": "python3"
  },
  "language_info": {
   "codemirror_mode": {
    "name": "ipython",
    "version": 3
   },
   "file_extension": ".py",
   "mimetype": "text/x-python",
   "name": "python",
   "nbconvert_exporter": "python",
   "pygments_lexer": "ipython3",
   "version": "3.6.1"
  }
 },
 "nbformat": 4,
 "nbformat_minor": 2
}
